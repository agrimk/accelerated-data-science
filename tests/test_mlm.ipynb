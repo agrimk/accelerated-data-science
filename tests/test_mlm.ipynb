{
 "cells": [
  {
   "cell_type": "code",
   "execution_count": null,
   "metadata": {
    "pycharm": {
     "is_executing": true
    }
   },
   "outputs": [],
   "source": [
    "!python3 -m pip install /Users/agkhanna/codebases/mlm-insights/dist/mlm_insights-1.0.5b1-py3-none-any.whl  --force-reinstall"
   ]
  },
  {
   "cell_type": "code",
   "execution_count": null,
   "metadata": {
    "pycharm": {
     "is_executing": true
    }
   },
   "outputs": [
    {
     "name": "stdout",
     "output_type": "stream",
     "text": [
      "Looking in indexes: https://artifacthub-iad.oci.oraclecorp.com/artifactory/api/pypi/aiapps-pypi-dev/simple, https://artifacthub-iad.oci.oraclecorp.com/artifactory/api/pypi/oscs-python-local/simple, https://pypi.python.org/simple, https://artifactory.oci.oraclecorp.com/api/pypi/global-dev-pypi/simple\n",
      "Processing /Users/agkhanna/codebases/accelerated-data-science/dist/oracle_ads-2.11.9-py3-none-any.whl\n",
      "\u001B[33mWARNING: Skipping page https://artifacthub-iad.oci.oraclecorp.com/artifactory/api/pypi/oscs-python-local/simple/pyyaml/ because the GET request got Content-Type: Unknown. The only supported Content-Types are application/vnd.pypi.simple.v1+json, application/vnd.pypi.simple.v1+html, and text/html\u001B[0m\u001B[33m\n",
      "\u001B[0mCollecting PyYAML>=6 (from oracle-ads==2.11.9)\n",
      "  Using cached https://artifactory.oci.oraclecorp.com/api/pypi/global-dev-pypi/packages/packages/57/c5/5d09b66b41d549914802f482a2118d925d876dc2a35b2d127694c1345c34/PyYAML-6.0.1-cp39-cp39-macosx_10_9_x86_64.whl (197 kB)\n",
      "\u001B[33mWARNING: Skipping page https://artifacthub-iad.oci.oraclecorp.com/artifactory/api/pypi/oscs-python-local/simple/asteval/ because the GET request got Content-Type: Unknown. The only supported Content-Types are application/vnd.pypi.simple.v1+json, application/vnd.pypi.simple.v1+html, and text/html\u001B[0m\u001B[33m\n",
      "\u001B[0m"
     ]
    }
   ],
   "source": [
    "!python3 -m pip install /Users/agkhanna/codebases/accelerated-data-science/dist/oracle_ads-2.11.9-py3-none-any.whl --force-reinstall\n"
   ]
  },
  {
   "cell_type": "code",
   "execution_count": null,
   "metadata": {
    "pycharm": {
     "is_executing": true
    }
   },
   "outputs": [],
   "source": [
    "!python -m pip install \"numpy==1.22.4\""
   ]
  },
  {
   "cell_type": "code",
   "execution_count": 3,
   "metadata": {
    "collapsed": false,
    "jupyter": {
     "outputs_hidden": false
    },
    "pycharm": {
     "name": "#%%\n"
    }
   },
   "outputs": [
    {
     "name": "stdout",
     "output_type": "stream",
     "text": [
      "adagio==0.2.4\n",
      "antlr4-python3-runtime==4.11.1\n",
      "anyio==4.3.0\n",
      "appdirs==1.4.4\n",
      "appnope==0.1.4\n",
      "argon2-cffi==23.1.0\n",
      "argon2-cffi-bindings==21.2.0\n",
      "arrow==1.3.0\n",
      "asteval==0.9.32\n",
      "asttokens==2.4.1\n",
      "async-lru==2.0.4\n",
      "attrs==23.2.0\n",
      "Babel==2.15.0\n",
      "beautifulsoup4==4.12.3\n",
      "bleach==6.1.0\n",
      "bokeh==3.4.1\n",
      "build==1.2.1\n",
      "cachetools==5.3.3\n",
      "Cerberus==1.3.5\n",
      "certifi==2024.2.2\n",
      "cffi==1.16.0\n",
      "charset-normalizer==3.3.2\n",
      "circuitbreaker==1.4.0\n",
      "click==8.1.7\n",
      "cloudpickle==3.0.0\n",
      "comm==0.2.2\n",
      "contourpy==1.2.1\n",
      "coverage==7.5.0\n",
      "cryptography==42.0.7\n",
      "cycler==0.12.1\n",
      "dask==2024.5.0\n",
      "dask-expr==1.1.0\n",
      "datasketches==4.0.1\n",
      "debugpy==1.8.1\n",
      "decorator==5.1.1\n",
      "defusedxml==0.7.1\n",
      "distributed==2024.5.0\n",
      "exceptiongroup==1.2.1\n",
      "execnet==2.1.1\n",
      "executing==2.0.1\n",
      "Faker==25.0.1\n",
      "fastjsonschema==2.19.1\n",
      "fonttools==4.51.0\n",
      "fqdn==1.5.1\n",
      "fs==2.4.16\n",
      "fsspec==2024.5.0\n",
      "fugue==0.8.7\n",
      "fugue-sql-antlr==0.2.0\n",
      "gitdb==4.0.11\n",
      "GitPython==3.1.43\n",
      "google-auth==2.29.0\n",
      "h11==0.14.0\n",
      "httpcore==1.0.5\n",
      "httpx==0.27.0\n",
      "idna==3.7\n",
      "importlib_metadata==7.1.0\n",
      "importlib_resources==6.4.0\n",
      "inflection==0.5.1\n",
      "iniconfig==2.0.0\n",
      "ipykernel==6.29.4\n",
      "ipython==8.18.1\n",
      "ipywidgets==8.1.2\n",
      "isoduration==20.11.0\n",
      "jedi==0.19.1\n",
      "Jinja2==3.1.4\n",
      "jmespath==1.0.1\n",
      "joblib==1.4.2\n",
      "json5==0.9.25\n",
      "jsonpointer==2.4\n",
      "jsonschema==4.22.0\n",
      "jsonschema-specifications==2023.12.1\n",
      "jupyter==1.0.0\n",
      "jupyter-console==6.6.3\n",
      "jupyter-events==0.10.0\n",
      "jupyter-lsp==2.2.5\n",
      "jupyter_client==8.6.1\n",
      "jupyter_core==5.7.2\n",
      "jupyter_server==2.14.0\n",
      "jupyter_server_terminals==0.5.3\n",
      "jupyterlab==4.1.8\n",
      "jupyterlab_pygments==0.3.0\n",
      "jupyterlab_server==2.27.1\n",
      "jupyterlab_widgets==3.0.10\n",
      "kiwisolver==1.4.5\n",
      "kubernetes==29.0.0\n",
      "locket==1.0.0\n",
      "lz4==4.3.3\n",
      "Markdown==3.6\n",
      "MarkupSafe==2.1.5\n",
      "matplotlib==3.9.0\n",
      "matplotlib-inline==0.1.7\n",
      "mistune==3.0.2\n",
      "mlm-insights==1.1.0\n",
      "mock==5.1.0\n",
      "msgpack==1.0.8\n",
      "nbclient==0.10.0\n",
      "nbconvert==7.16.4\n",
      "nbformat==5.10.4\n",
      "nest-asyncio==1.6.0\n",
      "notebook==7.1.3\n",
      "notebook_shim==0.2.4\n",
      "numpy==1.24.2\n",
      "oauthlib==3.2.2\n",
      "oci==2.126.4+3057\n",
      "ocifs==1.2.1\n",
      "oracle_ads @ file:///Users/agkhanna/codebases/accelerated-data-science/dist/oracle_ads-2.11.9-py3-none-any.whl#sha256=29efd7f5258f5426f5e291b8e9a4266a80b3115b98276925b8e8ad8e529c2a62\n",
      "overrides==7.7.0\n",
      "packaging==24.0\n",
      "pandas==1.5.3\n",
      "pandocfilters==1.5.1\n",
      "parameterized==0.9.0\n",
      "parso==0.8.4\n",
      "partd==1.4.2\n",
      "pexpect==4.9.0\n",
      "pillow==10.3.0\n",
      "platformdirs==4.2.2\n",
      "pluggy==1.5.0\n",
      "prometheus_client==0.20.0\n",
      "prompt-toolkit==3.0.43\n",
      "protobuf==4.22.1\n",
      "psutil==5.9.8\n",
      "ptyprocess==0.7.0\n",
      "pure-eval==0.2.2\n",
      "pyarrow==14.0.1\n",
      "pyarrow-hotfix==0.6\n",
      "pyasn1==0.6.0\n",
      "pyasn1_modules==0.4.0\n",
      "pycparser==2.22\n",
      "Pygments==2.18.0\n",
      "pyOpenSSL==24.1.0\n",
      "pyparsing==3.1.2\n",
      "pyproject_hooks==1.1.0\n",
      "pytest==8.2.0\n",
      "pytest-cov==5.0.0\n",
      "pytest-xdist==3.6.1\n",
      "python-dateutil==2.9.0.post0\n",
      "python-json-logger==2.0.7\n",
      "python-jsonschema-objects==0.5.4\n",
      "pytz==2024.1\n",
      "PyYAML==6.0.1\n",
      "pyzmq==26.0.3\n",
      "qpd==0.4.4\n",
      "qtconsole==5.5.2\n",
      "QtPy==2.4.1\n",
      "referencing==0.35.1\n",
      "requests==2.32.1\n",
      "requests-oauthlib==2.0.0\n",
      "rfc3339-validator==0.1.4\n",
      "rfc3986-validator==0.1.1\n",
      "rpds-py==0.18.1\n",
      "rsa==4.9\n",
      "scikit-learn==1.2.2\n",
      "scipy==1.10.1\n",
      "Send2Trash==1.8.3\n",
      "six==1.16.0\n",
      "smmap==5.0.1\n",
      "sniffio==1.3.1\n",
      "sortedcontainers==2.4.0\n",
      "soupsieve==2.5\n",
      "sqlglot==23.17.0\n",
      "stack-data==0.6.3\n",
      "tabulate==0.9.0\n",
      "tblib==3.0.0\n",
      "terminado==0.18.1\n",
      "threadpoolctl==3.5.0\n",
      "tinycss2==1.3.0\n",
      "tomli==2.0.1\n",
      "toolz==0.12.1\n",
      "tornado==6.4\n",
      "tqdm==4.66.4\n",
      "traitlets==5.14.3\n",
      "triad==0.9.6\n",
      "types-python-dateutil==2.9.0.20240316\n",
      "typing_extensions==4.11.0\n",
      "tzdata==2024.1\n",
      "uri-template==1.3.0\n",
      "urllib3==2.2.1\n",
      "wcwidth==0.2.13\n",
      "webcolors==1.13\n",
      "webencodings==0.5.1\n",
      "websocket-client==1.8.0\n",
      "widgetsnbextension==4.0.10\n",
      "xyzservices==2024.4.0\n",
      "zict==3.0.0\n",
      "zipp==3.18.2\n"
     ]
    }
   ],
   "source": [
    "!python3 -m pip freeze"
   ]
  },
  {
   "cell_type": "code",
   "execution_count": 1,
   "metadata": {
    "collapsed": false,
    "jupyter": {
     "outputs_hidden": false
    },
    "pycharm": {
     "is_executing": true,
     "name": "#%%\n"
    }
   },
   "outputs": [
    {
     "name": "stdout",
     "output_type": "stream",
     "text": [
      "check if config is valid\n",
      "Starting application config grammar and component validation\n"
     ]
    },
    {
     "name": "stderr",
     "output_type": "stream",
     "text": [
      "ERROR - Exception\n",
      "Traceback (most recent call last):\n",
      "  File \"/Users/agkhanna/anaconda3/envs/agrim_ads_conda/lib/python3.8/site-packages/IPython/core/interactiveshell.py\", line 3508, in run_code\n",
      "    exec(code_obj, self.user_global_ns, self.user_ns)\n",
      "  File \"/var/folders/zf/8tw458mx4ns__cc601r4rjzh0000gn/T/ipykernel_5136/3527937642.py\", line 3, in <module>\n",
      "    test_result = config_validator.validate_config(config={\"monitor_id\" : \"abc\"}, action_type=\"RUN_BASELINE\")\n",
      "  File \"/Users/agkhanna/anaconda3/envs/agrim_ads_conda/lib/python3.8/site-packages/ads/ml_monitoring/config_validator/config_validator.py\", line 17, in validate_config\n",
      "    result = validate_config(config=config, action_type=ApplicationActionType.from_string(action_type))\n",
      "  File \"/Users/agkhanna/anaconda3/envs/agrim_ads_conda/lib/python3.8/site-packages/ads/ml_monitoring/config_validator/validator_utils.py\", line 31, in validate_config\n",
      "    validate_library_components(config, error_list, config_registry.get_config_map())\n",
      "  File \"/Users/agkhanna/anaconda3/envs/agrim_ads_conda/lib/python3.8/site-packages/ads/ml_monitoring/config_validator/validator_utils.py\", line 67, in validate_library_components\n",
      "    save_metric_output_as_json_post_processor = getattr(importlib.import_module(\n",
      "  File \"/Users/agkhanna/anaconda3/envs/agrim_ads_conda/lib/python3.8/importlib/__init__.py\", line 127, in import_module\n",
      "    return _bootstrap._gcd_import(name[level:], package, level)\n",
      "  File \"<frozen importlib._bootstrap>\", line 1014, in _gcd_import\n",
      "  File \"<frozen importlib._bootstrap>\", line 991, in _find_and_load\n",
      "  File \"<frozen importlib._bootstrap>\", line 961, in _find_and_load_unlocked\n",
      "  File \"<frozen importlib._bootstrap>\", line 219, in _call_with_frames_removed\n",
      "  File \"<frozen importlib._bootstrap>\", line 1014, in _gcd_import\n",
      "  File \"<frozen importlib._bootstrap>\", line 991, in _find_and_load\n",
      "  File \"<frozen importlib._bootstrap>\", line 961, in _find_and_load_unlocked\n",
      "  File \"<frozen importlib._bootstrap>\", line 219, in _call_with_frames_removed\n",
      "  File \"<frozen importlib._bootstrap>\", line 1014, in _gcd_import\n",
      "  File \"<frozen importlib._bootstrap>\", line 991, in _find_and_load\n",
      "  File \"<frozen importlib._bootstrap>\", line 973, in _find_and_load_unlocked\n",
      "ModuleNotFoundError: No module named 'application'\n"
     ]
    },
    {
     "name": "stdout",
     "output_type": "stream",
     "text": [
      "validating application components.\n",
      "validating application component - monitor_id.\n",
      "validating application component - storage_details.\n",
      "Provide a storage_details component in the config.\n",
      "validating application component - readers.\n",
      "Validating: baseline_reader\n",
      "Provide a baseline_reader component in the config.\n",
      "validating library components.\n",
      "validating library component - input schema.\n",
      "validating library component - dataset metrics.\n",
      "validating library component - feature set metrics.\n",
      "validating library component - transformers.\n",
      "validating library component - post processor.\n"
     ]
    },
    {
     "name": "stderr",
     "output_type": "stream",
     "text": [
      "ModuleNotFoundError: No module named 'application'"
     ]
    }
   ],
   "source": [
    "from ads.ml_monitoring import ConfigValidator\n",
    "config_validator = ConfigValidator()\n",
    "test_result = config_validator.validate_config(config={\"monitor_id\" : \"abc\"}, action_type=\"RUN_BASELINE\")"
   ]
  },
  {
   "cell_type": "code",
   "execution_count": 7,
   "metadata": {
    "collapsed": false,
    "jupyter": {
     "outputs_hidden": false
    },
    "pycharm": {
     "name": "#%%\n"
    }
   },
   "outputs": [
    {
     "name": "stderr",
     "output_type": "stream",
     "text": [
      "ERROR - Exception\n",
      "Traceback (most recent call last):\n",
      "  File \"/Users/agkhanna/codebases/accelerated-data-science/ads_venv/lib/python3.9/site-packages/IPython/core/interactiveshell.py\", line 3550, in run_code\n",
      "    exec(code_obj, self.user_global_ns, self.user_ns)\n",
      "  File \"/var/folders/zf/8tw458mx4ns__cc601r4rjzh0000gn/T/ipykernel_32103/4197225552.py\", line 3, in <module>\n",
      "    result = config_authoring.authoring(config_name=\"abc.json\", component_name=\"input\",action_type=\"dsjk\" ,config_value={ \"Age\": {\n",
      "  File \"/Users/agkhanna/codebases/accelerated-data-science/ads/ml_monitoring/config_authoring/config_authoring.py\", line 29, in authoring\n",
      "    file.write(config)\n",
      "TypeError: write() argument must be str, not dict\n"
     ]
    },
    {
     "name": "stdout",
     "output_type": "stream",
     "text": [
      "Generating config\n",
      "{'input': {'Age': {'data_type': 'integer', 'variable_type': 'continuous'}, 'EnvironmentSatisfaction': {'data_type': 'integer', 'variable_type': 'continuous'}}}\n"
     ]
    },
    {
     "name": "stderr",
     "output_type": "stream",
     "text": [
      "TypeError: write() argument must be str, not dict"
     ]
    }
   ],
   "source": [
    "from ads.ml_monitoring import ConfigAuthoring\n",
    "config_authoring = ConfigAuthoring()\n",
    "result = config_authoring.authoring(config_name=\"abc.json\", component_name=\"input\",action_type=\"dsjk\" ,config_value={ \"Age\": {\n",
    "      \"data_type\": \"integer\",\n",
    "      \"variable_type\": \"continuous\"\n",
    "    },\n",
    "    \"EnvironmentSatisfaction\": {\n",
    "      \"data_type\": \"integer\",\n",
    "      \"variable_type\": \"continuous\"\n",
    "    }})\n",
    "\n",
    "print(result)"
   ]
  },
  {
   "cell_type": "code",
   "execution_count": null,
   "metadata": {},
   "outputs": [
    {
     "name": "stdout",
     "output_type": "stream",
     "text": [
      "col_int int64\n",
      "col_float float64\n",
      "col_float_2 float64\n",
      "col_float_3 float64\n",
      "col_str object\n"
     ]
    }
   ],
   "source": [
    "import pandas as pd\n",
    "# pd.set_option('max_info_columns', 200)\n",
    "df = pd.read_csv('/Users/agkhanna/codebases/accelerated-data-science/tests/test.csv', nrows=25)\n",
    "\n",
    "# df.info()\n",
    "for name, dtype in df.dtypes.iteritems():\n",
    "    print(name, dtype)"
   ]
  }
 ],
 "metadata": {
  "kernelspec": {
   "display_name": "Python 3 (ipykernel)",
   "language": "python",
   "name": "python3"
  },
  "language_info": {
   "codemirror_mode": {
    "name": "ipython",
    "version": 3
   },
   "file_extension": ".py",
   "mimetype": "text/x-python",
   "name": "python",
   "nbconvert_exporter": "python",
   "pygments_lexer": "ipython3",
   "version": "3.8.18"
  }
 },
 "nbformat": 4,
 "nbformat_minor": 4
}